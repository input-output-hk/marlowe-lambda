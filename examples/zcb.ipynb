{
 "cells": [
  {
   "cell_type": "markdown",
   "id": "3700966c-a368-44f4-8fcd-829d85f989d6",
   "metadata": {},
   "source": [
    "# A Marlowe Runtime Client for AWS Lambda\n",
    "\n",
    "\n",
    "**Executive Summary**\n",
    "\n",
    "We introduce a Marlowe Runtime client for the AWS Lambda service using the [marlowe-lambda](https://github.com/input-output-hk/marlowe-lambda) Haskell package. This permits users to create, apply inputs to, and withdraw funds from Marlowe contract instances; it also lets them list all of the Marlowe contracts on the blockchain and to examine their on-chain status and contents.  Users do not need to install any Marlowe software and the only Cardano software they need is a wallet for signing the transactions. (The example here uses several command-line tools for convenience, but any toolset for calling AWS Lambda, manipulating JSON, and signing/submitting transactions could be used.) AWS services are monetizable, via a charge for contract creation and/or staking rewards that accrue to the publisher of the AWS Lambda service. Although, we demonstrate the basic use case with a simple zero-coupon bond (also known as a \"bullet loan\") where a lender provide funds to a borrower who repays both principal and interest, the service may be used with any Marlowe contract. In addition to providing the convenience of zero-installation use of Marlowe, AWS Lambda also supports the orchestration of complex workflows involving multiple Marlowe contracts or a mixture of Marlowe and non-Marlowe lambdas.\n",
    "\n",
    "A video demonstration of this notebook is available [here](https://youtu.be/huXbRyrmW60).\n",
    "\n",
    "\n",
    "![Zero-coupon bond contract in Blockly](zcb.png)"
   ]
  },
  {
   "cell_type": "markdown",
   "id": "c31ce719-e014-458b-b17d-e332ce293379",
   "metadata": {},
   "source": [
    "## Preliminaries"
   ]
  },
  {
   "cell_type": "markdown",
   "id": "ea7e3309-d5a8-4f8f-a70b-84bbb392cfdc",
   "metadata": {},
   "source": [
    "### Record version numbers for future reference"
   ]
  },
  {
   "cell_type": "code",
   "execution_count": 1,
   "id": "4230e720-292b-4ddd-a44b-96510f2f3b41",
   "metadata": {},
   "outputs": [
    {
     "name": "stdout",
     "output_type": "stream",
     "text": [
      "aws-cli/2.4.23 Python/3.9.11 Linux/5.10.126 source/x86_64.nixos.22 prompt/off\n"
     ]
    }
   ],
   "source": [
    "aws --version"
   ]
  },
  {
   "cell_type": "code",
   "execution_count": 2,
   "id": "26704585-7a93-46d7-8583-71346eebe3dc",
   "metadata": {},
   "outputs": [
    {
     "name": "stdout",
     "output_type": "stream",
     "text": [
      "cardano-cli 1.35.3 - linux-x86_64 - ghc-8.10\n",
      "git rev 0000000000000000000000000000000000000000\n"
     ]
    }
   ],
   "source": [
    "cardano-cli --version"
   ]
  },
  {
   "cell_type": "code",
   "execution_count": 3,
   "id": "e5774d5f-40b6-46be-a274-f60cee3c24fb",
   "metadata": {},
   "outputs": [
    {
     "name": "stdout",
     "output_type": "stream",
     "text": [
      "marlowe-cli 0.0.10.0\n"
     ]
    }
   ],
   "source": [
    "marlowe-cli --version"
   ]
  },
  {
   "cell_type": "markdown",
   "id": "f10b77b1-6f48-4794-a7a3-5feb0873d50f",
   "metadata": {},
   "source": [
    "### Set the network for local operations such as signing transactions\n",
    "\n",
    "The AWS Lambda operation use their own node, but we will be locally signing and submitting the transactions it builds. This could be done by a wallet."
   ]
  },
  {
   "cell_type": "code",
   "execution_count": 4,
   "id": "75b68de3-fca1-438f-9b4a-73301360b8a2",
   "metadata": {},
   "outputs": [],
   "source": [
    "export CARDANO_NODE_SOCKET_PATH=node.socket\n",
    "export CARDANO_TESTNET_MAGIC=2\n",
    "MAGIC=(--testnet-magic 2)"
   ]
  },
  {
   "cell_type": "markdown",
   "id": "bb2dbc03-fd6d-4b18-8b43-f037da4125e9",
   "metadata": {},
   "source": [
    "### Setup the addresses and keys for the parties to the contract"
   ]
  },
  {
   "cell_type": "code",
   "execution_count": 5,
   "id": "d62b5a34-5ea7-4b53-9c9d-621a92f32996",
   "metadata": {},
   "outputs": [],
   "source": [
    "export TREASURY=treasury"
   ]
  },
  {
   "cell_type": "markdown",
   "id": "2c08e92b-3898-4650-9f1d-6b38799f244e",
   "metadata": {},
   "source": [
    "#### The lender"
   ]
  },
  {
   "cell_type": "code",
   "execution_count": 6,
   "id": "dc5eda0d-c841-4246-a077-4db4f434f396",
   "metadata": {},
   "outputs": [
    {
     "name": "stdout",
     "output_type": "stream",
     "text": [
      "LENDER_ADDR = addr_test1vqwt2xlr4d8yk4qws675exlqy6pdhq2s76wrehkjggkvr0cerfe8r\n"
     ]
    }
   ],
   "source": [
    "LENDER_SKEY=\"$TREASURY/john-fletcher.skey\"\n",
    "LENDER_ADDR=\"$(cat $TREASURY/john-fletcher.testnet.address)\"\n",
    "echo \"LENDER_ADDR = $LENDER_ADDR\""
   ]
  },
  {
   "cell_type": "markdown",
   "id": "ff8ffcbb-5de8-4402-8917-82f5af12252f",
   "metadata": {},
   "source": [
    "See that the lender has funds."
   ]
  },
  {
   "cell_type": "code",
   "execution_count": 7,
   "id": "eef5f95e-8fd6-47fd-9229-4deb8b2722c7",
   "metadata": {},
   "outputs": [
    {
     "name": "stdout",
     "output_type": "stream",
     "text": [
      "                           TxHash                                 TxIx        Amount\n",
      "--------------------------------------------------------------------------------------\n",
      "dc8fceb2f336dedf2af52ee3eb1cc469f849bf3c277919d665beb0fbeecc1ec6     2        150000000000 lovelace + TxOutDatumNone\n"
     ]
    }
   ],
   "source": [
    "cardano-cli query utxo \"${MAGIC[@]}\" --address \"$LENDER_ADDR\""
   ]
  },
  {
   "cell_type": "markdown",
   "id": "963f8763-7c58-4fa8-9b15-ad043cea46a8",
   "metadata": {},
   "source": [
    "#### The borrower"
   ]
  },
  {
   "cell_type": "code",
   "execution_count": 8,
   "id": "6c661b4f-fe04-4b90-b40c-bf31174a0b01",
   "metadata": {},
   "outputs": [
    {
     "name": "stdout",
     "output_type": "stream",
     "text": [
      "BORROWER_ADDR = addr_test1vr7n0zzth5zycuh972w7rdmh48qur4f3wu6ntn2m2h30dlcvltuy5\n"
     ]
    }
   ],
   "source": [
    "BORROWER_SKEY=\"$TREASURY/thomas-kyd.skey\"\n",
    "BORROWER_ADDR=\"$(cat $TREASURY/thomas-kyd.testnet.address)\"\n",
    "echo \"BORROWER_ADDR = $BORROWER_ADDR\""
   ]
  },
  {
   "cell_type": "markdown",
   "id": "7d1d1bbb-5d7d-417a-9a77-c7ac39b28b62",
   "metadata": {},
   "source": [
    "See that the borrower has funds."
   ]
  },
  {
   "cell_type": "code",
   "execution_count": 9,
   "id": "50e3c24c-772a-4fe2-aaaa-ede654814372",
   "metadata": {},
   "outputs": [
    {
     "name": "stdout",
     "output_type": "stream",
     "text": [
      "                           TxHash                                 TxIx        Amount\n",
      "--------------------------------------------------------------------------------------\n",
      "dc8fceb2f336dedf2af52ee3eb1cc469f849bf3c277919d665beb0fbeecc1ec6     3        150000000000 lovelace + TxOutDatumNone\n"
     ]
    }
   ],
   "source": [
    "cardano-cli query utxo \"${MAGIC[@]}\" --address \"$BORROWER_ADDR\""
   ]
  },
  {
   "cell_type": "markdown",
   "id": "0da0dc38-dc0a-46ca-8b9a-8edfc0509986",
   "metadata": {},
   "source": [
    "### The AWS Lambda function for Marlowe Runtime\n",
    "\n",
    "![Marlowe Runtime](marlowe-runtime.png)"
   ]
  },
  {
   "cell_type": "markdown",
   "id": "296e06af-3669-44a2-b177-f567a117ba3f",
   "metadata": {},
   "source": [
    "The process for deploying the Marlowe Runtime client for AWS Lambda is straightforward.\n",
    "\n",
    "First clone the respository and build the software.\n",
    "\n",
    "```bash\n",
    "git clone https://github.com/input-output-hk/marlowe-lambda.git\n",
    "cd marlowe-lambda\n",
    "nix develop\n",
    "./package.sh\n",
    "```\n",
    "Then upload the resulting `marlowe-lambda.zip` file to AWS Lambda.\n",
    "\n",
    "The lambda client requires a connection to the Marlowe Runtime backend, which can be deployed as a Docker image. Configuration files are provided for connecting to the `preprod` and `preview` testnets, or to `mainnet`.\n",
    "\n",
    "Check the that AWS Lambda function for Marlowe Runtime has been registered."
   ]
  },
  {
   "cell_type": "code",
   "execution_count": 10,
   "id": "1ea11b8e-9532-4723-910a-1ffebd238a34",
   "metadata": {},
   "outputs": [
    {
     "name": "stdout",
     "output_type": "stream",
     "text": [
      "Functions:\n",
      "- Architectures:\n",
      "  - x86_64\n",
      "  CodeSha256: FgdMYYVc6N40litNVP7xc0aZh2oS4BA159Rn/+oInVM=\n",
      "  CodeSize: 23071139\n",
      "  Description: ''\n",
      "  FunctionArn: arn:aws:lambda:us-west-2:454236594309:function:bbush-marlowe-runtime-1\n",
      "  FunctionName: bbush-marlowe-runtime-1\n",
      "  Handler: marlowe\n",
      "  LastModified: 2022-10-31T20:47:13.000+0000\n",
      "  MemorySize: 128\n",
      "  PackageType: Zip\n",
      "  RevisionId: e7ca2663-bd47-4cd0-872c-f40726f738f7\n",
      "  Role: arn:aws:iam::454236594309:role/service-role/bbush-marlowe-runtime-1-role-4i77polb\n",
      "  Runtime: provided\n",
      "  Timeout: 25\n",
      "  TracingConfig:\n",
      "    Mode: PassThrough\n",
      "  Version: $LATEST\n"
     ]
    }
   ],
   "source": [
    "aws lambda list-functions | json2yaml"
   ]
  },
  {
   "cell_type": "markdown",
   "id": "a506fadd-a3f8-4665-94b5-06169b585be4",
   "metadata": {},
   "source": [
    "## The contract"
   ]
  },
  {
   "cell_type": "markdown",
   "id": "a52b36f7-3b52-4f45-8de0-15166f64b628",
   "metadata": {},
   "source": [
    "Set parameters for the contract."
   ]
  },
  {
   "cell_type": "code",
   "execution_count": 11,
   "id": "be46fee8-b56f-480b-a0cd-009161c5f56a",
   "metadata": {},
   "outputs": [],
   "source": [
    "SECOND=1000\n",
    "MINUTE=$((60 * SECOND))\n",
    "HOUR=$((60 * MINUTE))\n",
    "\n",
    "NOW=$(($(date -u +%s) * SECOND))\n",
    "\n",
    "ADA=1000000\n",
    "THOUSAND=1000\n",
    "MINIMUM_ADA=$((3 * ADA))\n",
    "\n",
    "PRINCIPAL=$((100 * THOUSAND * ADA))\n",
    "INTEREST=$((5 * THOUSAND * ADA))\n",
    "\n",
    "LENDING_DEADLINE=$((NOW + 2 * HOUR))\n",
    "REPAYMENT_DEADLINE=$((NOW + 6 * HOUR))"
   ]
  },
  {
   "cell_type": "markdown",
   "id": "874e8133-c22e-4d2b-a990-ba5c9e1c0794",
   "metadata": {},
   "source": [
    "We can create the contract with [Marlowe Playground](https://marlowe-playground-staging.plutus.aws.iohkdev.io/) or with any tool that can write JSON in the correct format. For convenience, however, we use `marlowe-cli` to generate the zero-coupon bond contract from a template."
   ]
  },
  {
   "cell_type": "code",
   "execution_count": 12,
   "id": "ba2d3f94-758b-4e02-bddc-b6700841cd55",
   "metadata": {},
   "outputs": [],
   "source": [
    "marlowe-cli template zcb \\\n",
    "  --minimum-ada \"$MINIMUM_ADA\" \\\n",
    "  --lender \"$LENDER_ADDR\" \\\n",
    "  --borrower \"$BORROWER_ADDR\" \\\n",
    "  --principal \"$PRINCIPAL\" \\\n",
    "  --interest \"$INTEREST\" \\\n",
    "  --lending-deadline \"$LENDING_DEADLINE\" \\\n",
    "  --repayment-deadline \"$REPAYMENT_DEADLINE\" \\\n",
    "  --out-contract-file zcb-1.contract \\\n",
    "  --out-state-file /dev/null"
   ]
  },
  {
   "cell_type": "markdown",
   "id": "173a88d0-918c-45c3-82c5-e30e6b5b4a70",
   "metadata": {},
   "source": [
    "## Transaction 1. Create the contract"
   ]
  },
  {
   "cell_type": "markdown",
   "id": "e8887e82-1174-4493-860a-3739b025461a",
   "metadata": {},
   "source": [
    "We splice the contract into a request that will be send to the lambda."
   ]
  },
  {
   "cell_type": "code",
   "execution_count": 13,
   "id": "7f54d86f-1f8b-4828-bc27-adda6c6ffda4",
   "metadata": {},
   "outputs": [
    {
     "name": "stdout",
     "output_type": "stream",
     "text": [
      "addresses: []\n",
      "change: addr_test1vqwt2xlr4d8yk4qws675exlqy6pdhq2s76wrehkjggkvr0cerfe8r\n",
      "collateral: []\n",
      "contract:\n",
      "  timeout: 1667257669000\n",
      "  timeout_continuation: close\n",
      "  when:\n",
      "  - case:\n",
      "      deposits: 100000000000\n",
      "      into_account:\n",
      "        address: addr_test1vqwt2xlr4d8yk4qws675exlqy6pdhq2s76wrehkjggkvr0cerfe8r\n",
      "      of_token:\n",
      "        currency_symbol: ''\n",
      "        token_name: ''\n",
      "      party:\n",
      "        address: addr_test1vqwt2xlr4d8yk4qws675exlqy6pdhq2s76wrehkjggkvr0cerfe8r\n",
      "    then:\n",
      "      from_account:\n",
      "        address: addr_test1vqwt2xlr4d8yk4qws675exlqy6pdhq2s76wrehkjggkvr0cerfe8r\n",
      "      pay: 100000000000\n",
      "      then:\n",
      "        timeout: 1667272069000\n",
      "        timeout_continuation: close\n",
      "        when:\n",
      "        - case:\n",
      "            deposits:\n",
      "              add: 100000000000\n",
      "              and: 5000000000\n",
      "            into_account:\n",
      "              address: addr_test1vr7n0zzth5zycuh972w7rdmh48qur4f3wu6ntn2m2h30dlcvltuy5\n",
      "            of_token:\n",
      "              currency_symbol: ''\n",
      "              token_name: ''\n",
      "            party:\n",
      "              address: addr_test1vr7n0zzth5zycuh972w7rdmh48qur4f3wu6ntn2m2h30dlcvltuy5\n",
      "          then:\n",
      "            from_account:\n",
      "              address: addr_test1vr7n0zzth5zycuh972w7rdmh48qur4f3wu6ntn2m2h30dlcvltuy5\n",
      "            pay:\n",
      "              add: 100000000000\n",
      "              and: 5000000000\n",
      "            then: close\n",
      "            to:\n",
      "              party:\n",
      "                address: addr_test1vqwt2xlr4d8yk4qws675exlqy6pdhq2s76wrehkjggkvr0cerfe8r\n",
      "            token:\n",
      "              currency_symbol: ''\n",
      "              token_name: ''\n",
      "      to:\n",
      "        party:\n",
      "          address: addr_test1vr7n0zzth5zycuh972w7rdmh48qur4f3wu6ntn2m2h30dlcvltuy5\n",
      "      token:\n",
      "        currency_symbol: ''\n",
      "        token_name: ''\n",
      "minUtxo: 3000000\n",
      "request: create\n",
      "roles: {}\n"
     ]
    }
   ],
   "source": [
    "cat << EOI > zcb-1.request\n",
    "{                                                                                                                                    \n",
    "  \"request\" : \"create\",                \n",
    "  \"contract\" : $(cat zcb-1.contract),\n",
    "  \"minUtxo\" : $MINIMUM_ADA,              \n",
    "  \"roles\" : {},                             \n",
    "  \"change\" : \"$LENDER_ADDR\",\n",
    "  \"addresses\" : [],                                         \n",
    "  \"collateral\" : []                                  \n",
    "}\n",
    "EOI\n",
    "\n",
    "json2yaml zcb-1.request"
   ]
  },
  {
   "cell_type": "markdown",
   "id": "536ae123-5229-4d72-9d84-a20c5f966dc9",
   "metadata": {},
   "source": [
    "Call the lambda to create the transaction."
   ]
  },
  {
   "cell_type": "code",
   "execution_count": 14,
   "id": "5436ef04-a973-4fd4-91b4-f86d39bf11dc",
   "metadata": {},
   "outputs": [
    {
     "name": "stdout",
     "output_type": "stream",
     "text": [
      "{\n",
      "    \"StatusCode\": 200,\n",
      "    \"ExecutedVersion\": \"$LATEST\"\n",
      "}\n"
     ]
    }
   ],
   "source": [
    "aws lambda invoke \\\n",
    "  --function-name arn:aws:lambda:us-west-2:454236594309:function:bbush-marlowe-runtime-1 \\\n",
    "  --cli-binary-format raw-in-base64-out \\\n",
    "  --payload file://zcb-1.request \\\n",
    "  zcb-1.response"
   ]
  },
  {
   "cell_type": "markdown",
   "id": "01cfe25c-40ee-4a13-9dd2-ee04eb7bd75c",
   "metadata": {},
   "source": [
    "The response contains the transaction that needs to be signed by the wallet."
   ]
  },
  {
   "cell_type": "code",
   "execution_count": 15,
   "id": "bbf5be12-00cb-4703-99a5-d25af72ef0ce",
   "metadata": {},
   "outputs": [
    {
     "name": "stdout",
     "output_type": "stream",
     "text": [
      "body:\n",
      "  cborHex: 86a50081825820dc8fceb2f336dedf2af52ee3eb1cc469f849bf3c277919d665beb0fbeecc1ec6020d81825820dc8fceb2f336dedf2af52ee3eb1cc469f849bf3c277919d665beb0fbeecc1ec6020182a200581d601cb51be3ab4e4b540e86bd4c9be02682db8150f69c3cded2422cc1bf011b00000022ec81730ba300581d706a9391d6aa51af28dd876ebb5565b69d1e83e5ac7861506bd29b56b0011a002dc6c00282005820f655774fa192c7c4452d1cf969ffcea6f28c0826928c270c78e5eca37ae2b20d021a000322350b58208658ad1a032d64874b6944853a2c95f62b58f8a6bb0b93a5e9f66bc706ccb4779fff81d8799fd8799f40ffd8799fa1d8799fd8799fd87980d8799fd8799f581c1cb51be3ab4e4b540e86bd4c9be02682db8150f69c3cded2422cc1bfffd87a80ffffd8799f4040ffff1a002dc6c0a0a000ffd87c9f9fd8799fd8799fd8799fd87980d8799fd8799f581c1cb51be3ab4e4b540e86bd4c9be02682db8150f69c3cded2422cc1bfffd87a80ffffd8799fd87980d8799fd8799f581c1cb51be3ab4e4b540e86bd4c9be02682db8150f69c3cded2422cc1bfffd87a80ffffd8799f4040ffd87a9f1b000000174876e800ffffd87a9fd8799fd87980d8799fd8799f581c1cb51be3ab4e4b540e86bd4c9be02682db8150f69c3cded2422cc1bfffd87a80ffffd87a9fd8799fd87980d8799fd8799f581cfd37884bbd044c72e5f29de1b777a9c1c1d531773535cd5b55e2f6ffffd87a80ffffffd8799f4040ffd87a9f1b000000174876e800ffd87c9f9fd8799fd8799fd8799fd87980d8799fd8799f581cfd37884bbd044c72e5f29de1b777a9c1c1d531773535cd5b55e2f6ffffd87a80ffffd8799fd87980d8799fd8799f581cfd37884bbd044c72e5f29de1b777a9c1c1d531773535cd5b55e2f6ffffd87a80ffffd8799f4040ffd87c9fd87a9f1b000000174876e800ffd87a9f1b000000012a05f200ffffffd87a9fd8799fd87980d8799fd8799f581cfd37884bbd044c72e5f29de1b777a9c1c1d531773535cd5b55e2f6ffffd87a80ffffd87a9fd8799fd87980d8799fd8799f581c1cb51be3ab4e4b540e86bd4c9be02682db8150f69c3cded2422cc1bfffd87a80ffffffd8799f4040ffd87c9fd87a9f1b000000174876e800ffd87a9f1b000000012a05f200ffffd87980ffffff1b000001843128cf88d87980ffffffff1b00000184304d1588d87980ffff80f5f6\n",
      "  description: ''\n",
      "  type: TxBodyBabbage\n",
      "contractId: 66e4af5ec99f09c28c6378e1d9d9508d95544e258fd8c8e7f3ff168a73e7b656#1\n",
      "response: body\n",
      "txId: 66e4af5ec99f09c28c6378e1d9d9508d95544e258fd8c8e7f3ff168a73e7b656\n"
     ]
    }
   ],
   "source": [
    "json2yaml zcb-1.response"
   ]
  },
  {
   "cell_type": "markdown",
   "id": "e099d9e2-2857-4c82-b9c6-089d789183b4",
   "metadata": {},
   "source": [
    "Marlowe Runtime does not manage or access signing keys. We could use a CIP-30 light wallet (such as Lace), `cardano-wallet`, `cardano-hw-cli`, or `cardano-cli`. For convenience, we use `marlowe-cli` because it can sign, submit, and wait for confirmation."
   ]
  },
  {
   "cell_type": "code",
   "execution_count": 16,
   "id": "ca6933e6-ba8d-44a0-a13e-f72afe365a84",
   "metadata": {},
   "outputs": [
    {
     "name": "stdout",
     "output_type": "stream",
     "text": [
      "TxId \"66e4af5ec99f09c28c6378e1d9d9508d95544e258fd8c8e7f3ff168a73e7b656\"\n"
     ]
    }
   ],
   "source": [
    "jq '.body' zcb-1.response > zcb-1.txBody\n",
    "\n",
    "marlowe-cli transaction submit \\\n",
    "  --tx-body-file zcb-1.txBody \\\n",
    "  --required-signer \"$LENDER_SKEY\" \\\n",
    "  --timeout 600"
   ]
  },
  {
   "cell_type": "markdown",
   "id": "e33c87a2-cec7-4675-bc60-427bf2950d4d",
   "metadata": {},
   "source": [
    "Each Marlowe contract is identified by the UTxO of its creation transaction."
   ]
  },
  {
   "cell_type": "code",
   "execution_count": 17,
   "id": "877adf9e-139d-480e-aef6-25caa890c7ed",
   "metadata": {},
   "outputs": [
    {
     "name": "stdout",
     "output_type": "stream",
     "text": [
      "CONTRACT_ID = 66e4af5ec99f09c28c6378e1d9d9508d95544e258fd8c8e7f3ff168a73e7b656#1\n"
     ]
    }
   ],
   "source": [
    "CONTRACT_ID=\"$(jq -r '.contractId' zcb-1.response)\"\n",
    "echo \"CONTRACT_ID = $CONTRACT_ID\""
   ]
  },
  {
   "cell_type": "markdown",
   "id": "6d9d9247-90ac-4064-acd9-808624a467fa",
   "metadata": {},
   "source": [
    "Now query the blockchain to see that that contract has been created. We could use any Cardano explorer for this, but here we use `cardano-cli`."
   ]
  },
  {
   "cell_type": "code",
   "execution_count": 18,
   "id": "b4284ea3-d5b6-4e1b-85fc-0e771af76084",
   "metadata": {},
   "outputs": [
    {
     "name": "stdout",
     "output_type": "stream",
     "text": [
      "                           TxHash                                 TxIx        Amount\n",
      "--------------------------------------------------------------------------------------\n",
      "66e4af5ec99f09c28c6378e1d9d9508d95544e258fd8c8e7f3ff168a73e7b656     1        3000000 lovelace + TxOutDatumHash ScriptDataInBabbageEra \"f655774fa192c7c4452d1cf969ffcea6f28c0826928c270c78e5eca37ae2b20d\"\n"
     ]
    }
   ],
   "source": [
    "cardano-cli query utxo \"${MAGIC[@]}\" --tx-in \"$CONTRACT_ID\""
   ]
  },
  {
   "cell_type": "markdown",
   "id": "e5e6af4a-0f0d-4c9a-aaca-ab89a1477eb1",
   "metadata": {},
   "source": [
    "## Retrieve the on-chain information about the contract"
   ]
  },
  {
   "cell_type": "markdown",
   "id": "cbe6c127-bc27-4408-933e-0b5995e822d6",
   "metadata": {},
   "source": [
    "Now get information about the contract using the lambda. First we construct a request."
   ]
  },
  {
   "cell_type": "code",
   "execution_count": 19,
   "id": "c04d3eb9-2a1c-40e4-ac5b-4332275b7321",
   "metadata": {},
   "outputs": [
    {
     "name": "stdout",
     "output_type": "stream",
     "text": [
      "{\"contractId\":\"66e4af5ec99f09c28c6378e1d9d9508d95544e258fd8c8e7f3ff168a73e7b656#1\",\"request\":\"get\"}\n"
     ]
    }
   ],
   "source": [
    "yaml2json << EOI > zcb-get.request\n",
    "request: get\n",
    "contractId: $CONTRACT_ID\n",
    "EOI\n",
    "\n",
    "cat zcb-get.request"
   ]
  },
  {
   "cell_type": "markdown",
   "id": "acbcd485-29cb-447a-a865-d523a4a6d4ce",
   "metadata": {},
   "source": [
    "Now call the lambda."
   ]
  },
  {
   "cell_type": "code",
   "execution_count": 20,
   "id": "a2fbca0e-ede4-4faa-b909-6cf8d96653ea",
   "metadata": {},
   "outputs": [
    {
     "name": "stdout",
     "output_type": "stream",
     "text": [
      "{\n",
      "    \"StatusCode\": 200,\n",
      "    \"ExecutedVersion\": \"$LATEST\"\n",
      "}\n"
     ]
    }
   ],
   "source": [
    "aws lambda invoke \\\n",
    "  --function-name arn:aws:lambda:us-west-2:454236594309:function:bbush-marlowe-runtime-1 \\\n",
    "  --cli-binary-format raw-in-base64-out \\\n",
    "  --payload file://zcb-get.request \\\n",
    "  zcb-get.response"
   ]
  },
  {
   "cell_type": "markdown",
   "id": "1036a79c-ef53-463c-9fdb-496a805ad590",
   "metadata": {},
   "source": [
    "View the resulting complete information about the contract and its creation."
   ]
  },
  {
   "cell_type": "code",
   "execution_count": 21,
   "id": "58560c31-5e3d-4222-a1f2-8cf737239b80",
   "metadata": {},
   "outputs": [
    {
     "name": "stdout",
     "output_type": "stream",
     "text": [
      "creation:\n",
      "  output:\n",
      "    address: 706a9391d6aa51af28dd876ebb5565b69d1e83e5ac7861506bd29b56b0\n",
      "    assets:\n",
      "      ada: 3000000\n",
      "      tokens: []\n",
      "    datum:\n",
      "      marloweContract:\n",
      "        timeout: 1667257669000\n",
      "        timeout_continuation: close\n",
      "        when:\n",
      "        - case:\n",
      "            deposits: 100000000000\n",
      "            into_account:\n",
      "              address: addr_test1vqwt2xlr4d8yk4qws675exlqy6pdhq2s76wrehkjggkvr0cerfe8r\n",
      "            of_token:\n",
      "              currency_symbol: ''\n",
      "              token_name: ''\n",
      "            party:\n",
      "              address: addr_test1vqwt2xlr4d8yk4qws675exlqy6pdhq2s76wrehkjggkvr0cerfe8r\n",
      "          then:\n",
      "            from_account:\n",
      "              address: addr_test1vqwt2xlr4d8yk4qws675exlqy6pdhq2s76wrehkjggkvr0cerfe8r\n",
      "            pay: 100000000000\n",
      "            then:\n",
      "              timeout: 1667272069000\n",
      "              timeout_continuation: close\n",
      "              when:\n",
      "              - case:\n",
      "                  deposits:\n",
      "                    add: 100000000000\n",
      "                    and: 5000000000\n",
      "                  into_account:\n",
      "                    address: addr_test1vr7n0zzth5zycuh972w7rdmh48qur4f3wu6ntn2m2h30dlcvltuy5\n",
      "                  of_token:\n",
      "                    currency_symbol: ''\n",
      "                    token_name: ''\n",
      "                  party:\n",
      "                    address: addr_test1vr7n0zzth5zycuh972w7rdmh48qur4f3wu6ntn2m2h30dlcvltuy5\n",
      "                then:\n",
      "                  from_account:\n",
      "                    address: addr_test1vr7n0zzth5zycuh972w7rdmh48qur4f3wu6ntn2m2h30dlcvltuy5\n",
      "                  pay:\n",
      "                    add: 100000000000\n",
      "                    and: 5000000000\n",
      "                  then: close\n",
      "                  to:\n",
      "                    party:\n",
      "                      address: addr_test1vqwt2xlr4d8yk4qws675exlqy6pdhq2s76wrehkjggkvr0cerfe8r\n",
      "                  token:\n",
      "                    currency_symbol: ''\n",
      "                    token_name: ''\n",
      "            to:\n",
      "              party:\n",
      "                address: addr_test1vr7n0zzth5zycuh972w7rdmh48qur4f3wu6ntn2m2h30dlcvltuy5\n",
      "            token:\n",
      "              currency_symbol: ''\n",
      "              token_name: ''\n",
      "      marloweParams:\n",
      "        rolesCurrency: ''\n",
      "      marloweState:\n",
      "        accounts:\n",
      "        - - - address: addr_test1vqwt2xlr4d8yk4qws675exlqy6pdhq2s76wrehkjggkvr0cerfe8r\n",
      "            - currency_symbol: ''\n",
      "              token_name: ''\n",
      "          - 3000000\n",
      "        boundValues: []\n",
      "        choices: []\n",
      "        minTime: 0\n",
      "    utxo:\n",
      "      txId: 66e4af5ec99f09c28c6378e1d9d9508d95544e258fd8c8e7f3ff168a73e7b656\n",
      "      txIx: 1\n",
      "  payoutValidatorHash: 49076eab20243dc9462511fb98a9cfb719f86e9692288139b7c91df3\n",
      "response: info\n",
      "steps: []\n"
     ]
    }
   ],
   "source": [
    "json2yaml zcb-get.response"
   ]
  },
  {
   "cell_type": "markdown",
   "id": "5155c252-10c3-4ed6-b499-e7284418f4dc",
   "metadata": {},
   "source": [
    "## Transaction 2. Deposit the loan amount"
   ]
  },
  {
   "cell_type": "markdown",
   "id": "b8ae0689-d413-4aa0-9077-b51786fce8fb",
   "metadata": {},
   "source": [
    "The lender deposits the principal. Once again, we use `marlowe-cli` to prepare the JSON, but this could be done by any JSON tooling that outputs properly-formatted Marlowe input."
   ]
  },
  {
   "cell_type": "code",
   "execution_count": 22,
   "id": "928c88cd-7805-47a5-8eb8-67ca1c26311f",
   "metadata": {},
   "outputs": [],
   "source": [
    "marlowe-cli input deposit \\\n",
    "  --deposit-party \"$LENDER_ADDR\" \\\n",
    "  --deposit-account \"$LENDER_ADDR\" \\\n",
    "  --deposit-amount \"$PRINCIPAL\" \\\n",
    "  --out-file zcb-2.input"
   ]
  },
  {
   "cell_type": "markdown",
   "id": "87369fc9-9a2f-469d-a8e7-5d57b2e9fbf6",
   "metadata": {},
   "source": [
    "Now bundle this information into a request that contains additional information about the transaction to be created."
   ]
  },
  {
   "cell_type": "code",
   "execution_count": 23,
   "id": "13391cf4-d255-47e8-883d-3b9094976003",
   "metadata": {},
   "outputs": [
    {
     "name": "stdout",
     "output_type": "stream",
     "text": [
      "addresses: []\n",
      "change: addr_test1vqwt2xlr4d8yk4qws675exlqy6pdhq2s76wrehkjggkvr0cerfe8r\n",
      "collateral: []\n",
      "contractId: 66e4af5ec99f09c28c6378e1d9d9508d95544e258fd8c8e7f3ff168a73e7b656#1\n",
      "inputs:\n",
      "- input_from_party:\n",
      "    address: addr_test1vqwt2xlr4d8yk4qws675exlqy6pdhq2s76wrehkjggkvr0cerfe8r\n",
      "  into_account:\n",
      "    address: addr_test1vqwt2xlr4d8yk4qws675exlqy6pdhq2s76wrehkjggkvr0cerfe8r\n",
      "  of_token:\n",
      "    currency_symbol: ''\n",
      "    token_name: ''\n",
      "  that_deposits: 100000000000\n",
      "request: apply\n",
      "validityLowerBound: 1667250780000\n",
      "validityUpperBound: 1667250960000\n"
     ]
    }
   ],
   "source": [
    "cat << EOI > zcb-2.request\n",
    "{\n",
    "  \"request\" : \"apply\",\n",
    "  \"contractId\" : \"$CONTRACT_ID\",\n",
    "  \"inputs\" : [\n",
    "    $(cat zcb-2.input)\n",
    "  ],\n",
    "  \"validityLowerBound\" : $(($(date -u +%s) * SECOND - 1 * MINUTE)),\n",
    "  \"validityUpperBound\" : $(($(date -u +%s) * SECOND + 2 * MINUTE)),\n",
    "  \"change\" : \"$LENDER_ADDR\",\n",
    "  \"addresses\" : [],\n",
    "  \"collateral\" : []\n",
    "}\n",
    "EOI\n",
    "\n",
    "json2yaml zcb-2.request"
   ]
  },
  {
   "cell_type": "markdown",
   "id": "cb7842c2-bfc8-4b96-be6c-f82552ca6af9",
   "metadata": {},
   "source": [
    "Now call the lambda function for Marlowe Runtime."
   ]
  },
  {
   "cell_type": "code",
   "execution_count": 24,
   "id": "d105ed36-bc20-4eec-b6b7-7b393deea8f3",
   "metadata": {},
   "outputs": [
    {
     "name": "stdout",
     "output_type": "stream",
     "text": [
      "{\n",
      "    \"StatusCode\": 200,\n",
      "    \"ExecutedVersion\": \"$LATEST\"\n",
      "}\n"
     ]
    }
   ],
   "source": [
    "aws lambda invoke \\\n",
    "  --function-name arn:aws:lambda:us-west-2:454236594309:function:bbush-marlowe-runtime-1 \\\n",
    "  --cli-binary-format raw-in-base64-out \\\n",
    "  --payload file://zcb-2.request \\\n",
    "  zcb-2.response"
   ]
  },
  {
   "cell_type": "markdown",
   "id": "509c43ee-4c95-447d-aa02-d875d52e37a2",
   "metadata": {},
   "source": [
    "Check that the response created a transaction body."
   ]
  },
  {
   "cell_type": "code",
   "execution_count": 25,
   "id": "3cf33fd1-2c88-4842-9014-a09e95f4016c",
   "metadata": {},
   "outputs": [
    {
     "name": "stdout",
     "output_type": "stream",
     "text": [
      "body:\n",
      "  cborHex: 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\n",
      "  description: ''\n",
      "  type: TxBodyBabbage\n",
      "contractId: 66e4af5ec99f09c28c6378e1d9d9508d95544e258fd8c8e7f3ff168a73e7b656#1\n",
      "response: body\n",
      "txId: 562ef5fae1a44493a63dac0c6cc2582859b0f19f39b4875350a3e93a4b8b7495\n"
     ]
    }
   ],
   "source": [
    "json2yaml zcb-2.response"
   ]
  },
  {
   "cell_type": "markdown",
   "id": "de9fbd6e-3471-4e3c-87e9-5b0146e17280",
   "metadata": {},
   "source": [
    "Now sign and submit the transaction locally."
   ]
  },
  {
   "cell_type": "code",
   "execution_count": 26,
   "id": "b921dfbe-ee6f-48a1-aa4f-d9cf49c0ffe1",
   "metadata": {},
   "outputs": [
    {
     "name": "stdout",
     "output_type": "stream",
     "text": [
      "TxId \"562ef5fae1a44493a63dac0c6cc2582859b0f19f39b4875350a3e93a4b8b7495\"\n"
     ]
    }
   ],
   "source": [
    "jq '.body' zcb-2.response > zcb-2.txBody\n",
    "\n",
    "marlowe-cli transaction submit \\\n",
    "  --tx-body-file zcb-2.txBody \\\n",
    "  --required-signer \"$LENDER_SKEY\" \\\n",
    "  --timeout 600"
   ]
  },
  {
   "cell_type": "markdown",
   "id": "9010a907-f8fd-491e-afa0-e14f52fecbd2",
   "metadata": {},
   "source": [
    "Marlowe contracts reside at a well-known universal address, which we calculate. We could also look this up in a Cardano explorer."
   ]
  },
  {
   "cell_type": "code",
   "execution_count": 27,
   "id": "e0ece698-0b7b-4660-ada5-7194f6387c40",
   "metadata": {},
   "outputs": [
    {
     "name": "stdout",
     "output_type": "stream",
     "text": [
      "CONTRACT_ADDR = addr_test1wp4f8ywk4fg672xasahtk4t9k6w3aql943uxz5rt62d4dvqu3c6jv\n"
     ]
    }
   ],
   "source": [
    "CONTRACT_ADDR=\"$(marlowe-cli contract address)\"\n",
    "echo \"CONTRACT_ADDR = $CONTRACT_ADDR\""
   ]
  },
  {
   "cell_type": "markdown",
   "id": "a2f58390-d999-4ad7-8a5d-70d7ac1a939a",
   "metadata": {},
   "source": [
    "Now query the blockchain at the contract address to see the UTxO that was created there."
   ]
  },
  {
   "cell_type": "code",
   "execution_count": 28,
   "id": "792a6764-7d68-47bd-93e9-0a7a951452dc",
   "metadata": {},
   "outputs": [
    {
     "name": "stdout",
     "output_type": "stream",
     "text": [
      "                           TxHash                                 TxIx        Amount\n",
      "--------------------------------------------------------------------------------------\n",
      "562ef5fae1a44493a63dac0c6cc2582859b0f19f39b4875350a3e93a4b8b7495     1        3000000 lovelace + TxOutDatumHash ScriptDataInBabbageEra \"1191de86231ce0a59716ea1e3dfd402e7811d0176fc18b2e38763bb3aa0aa34e\"\n"
     ]
    }
   ],
   "source": [
    "TX_2=\"$(jq -r '.txId' zcb-2.response)\"\n",
    "\n",
    "cardano-cli query utxo \"${MAGIC[@]}\" --address \"$CONTRACT_ADDR\" | sed -n -e \"1,2p;/$TX_2/p\""
   ]
  },
  {
   "cell_type": "markdown",
   "id": "db033285-ed6a-4063-91f5-d16952bbcd82",
   "metadata": {},
   "source": [
    "## Retrieve the on-chain information about the contract"
   ]
  },
  {
   "cell_type": "markdown",
   "id": "d5a39ae1-0918-4816-91b7-2f6454680169",
   "metadata": {},
   "source": [
    "We now retrieve the latest on-chain information about the contract by calling the lambda again."
   ]
  },
  {
   "cell_type": "code",
   "execution_count": 29,
   "id": "a6f03067-7c7b-4f1b-a2c3-bf23dfca7c1f",
   "metadata": {},
   "outputs": [
    {
     "name": "stdout",
     "output_type": "stream",
     "text": [
      "{\n",
      "    \"StatusCode\": 200,\n",
      "    \"ExecutedVersion\": \"$LATEST\"\n",
      "}\n"
     ]
    }
   ],
   "source": [
    "aws lambda invoke \\\n",
    "  --function-name arn:aws:lambda:us-west-2:454236594309:function:bbush-marlowe-runtime-1 \\\n",
    "  --cli-binary-format raw-in-base64-out \\\n",
    "  --payload file://zcb-get.request \\\n",
    "  zcb-get.response"
   ]
  },
  {
   "cell_type": "markdown",
   "id": "5b26bf4c-4da2-4fd3-8aec-2293cfbb0638",
   "metadata": {},
   "source": [
    "View the resulting information about the contract, which shows both the creation transaction and the first step that deposited the principal."
   ]
  },
  {
   "cell_type": "code",
   "execution_count": 30,
   "id": "01b1af87-3dad-4661-bdb3-050788460559",
   "metadata": {},
   "outputs": [
    {
     "name": "stdout",
     "output_type": "stream",
     "text": [
      "creation:\n",
      "  output:\n",
      "    address: 706a9391d6aa51af28dd876ebb5565b69d1e83e5ac7861506bd29b56b0\n",
      "    assets:\n",
      "      ada: 3000000\n",
      "      tokens: []\n",
      "    datum:\n",
      "      marloweContract:\n",
      "        timeout: 1667257669000\n",
      "        timeout_continuation: close\n",
      "        when:\n",
      "        - case:\n",
      "            deposits: 100000000000\n",
      "            into_account:\n",
      "              address: addr_test1vqwt2xlr4d8yk4qws675exlqy6pdhq2s76wrehkjggkvr0cerfe8r\n",
      "            of_token:\n",
      "              currency_symbol: ''\n",
      "              token_name: ''\n",
      "            party:\n",
      "              address: addr_test1vqwt2xlr4d8yk4qws675exlqy6pdhq2s76wrehkjggkvr0cerfe8r\n",
      "          then:\n",
      "            from_account:\n",
      "              address: addr_test1vqwt2xlr4d8yk4qws675exlqy6pdhq2s76wrehkjggkvr0cerfe8r\n",
      "            pay: 100000000000\n",
      "            then:\n",
      "              timeout: 1667272069000\n",
      "              timeout_continuation: close\n",
      "              when:\n",
      "              - case:\n",
      "                  deposits:\n",
      "                    add: 100000000000\n",
      "                    and: 5000000000\n",
      "                  into_account:\n",
      "                    address: addr_test1vr7n0zzth5zycuh972w7rdmh48qur4f3wu6ntn2m2h30dlcvltuy5\n",
      "                  of_token:\n",
      "                    currency_symbol: ''\n",
      "                    token_name: ''\n",
      "                  party:\n",
      "                    address: addr_test1vr7n0zzth5zycuh972w7rdmh48qur4f3wu6ntn2m2h30dlcvltuy5\n",
      "                then:\n",
      "                  from_account:\n",
      "                    address: addr_test1vr7n0zzth5zycuh972w7rdmh48qur4f3wu6ntn2m2h30dlcvltuy5\n",
      "                  pay:\n",
      "                    add: 100000000000\n",
      "                    and: 5000000000\n",
      "                  then: close\n",
      "                  to:\n",
      "                    party:\n",
      "                      address: addr_test1vqwt2xlr4d8yk4qws675exlqy6pdhq2s76wrehkjggkvr0cerfe8r\n",
      "                  token:\n",
      "                    currency_symbol: ''\n",
      "                    token_name: ''\n",
      "            to:\n",
      "              party:\n",
      "                address: addr_test1vr7n0zzth5zycuh972w7rdmh48qur4f3wu6ntn2m2h30dlcvltuy5\n",
      "            token:\n",
      "              currency_symbol: ''\n",
      "              token_name: ''\n",
      "      marloweParams:\n",
      "        rolesCurrency: ''\n",
      "      marloweState:\n",
      "        accounts:\n",
      "        - - - address: addr_test1vqwt2xlr4d8yk4qws675exlqy6pdhq2s76wrehkjggkvr0cerfe8r\n",
      "            - currency_symbol: ''\n",
      "              token_name: ''\n",
      "          - 3000000\n",
      "        boundValues: []\n",
      "        choices: []\n",
      "        minTime: 0\n",
      "    utxo:\n",
      "      txId: 66e4af5ec99f09c28c6378e1d9d9508d95544e258fd8c8e7f3ff168a73e7b656\n",
      "      txIx: 1\n",
      "  payoutValidatorHash: 49076eab20243dc9462511fb98a9cfb719f86e9692288139b7c91df3\n",
      "response: info\n",
      "steps:\n",
      "- contractId: 66e4af5ec99f09c28c6378e1d9d9508d95544e258fd8c8e7f3ff168a73e7b656#1\n",
      "  payouts: []\n",
      "  redeemer:\n",
      "  - input_from_party:\n",
      "      address: addr_test1vqwt2xlr4d8yk4qws675exlqy6pdhq2s76wrehkjggkvr0cerfe8r\n",
      "    into_account:\n",
      "      address: addr_test1vqwt2xlr4d8yk4qws675exlqy6pdhq2s76wrehkjggkvr0cerfe8r\n",
      "    of_token:\n",
      "      currency_symbol: ''\n",
      "      token_name: ''\n",
      "    that_deposits: 100000000000\n",
      "  scriptOutput:\n",
      "    address: 706a9391d6aa51af28dd876ebb5565b69d1e83e5ac7861506bd29b56b0\n",
      "    assets:\n",
      "      ada: 3000000\n",
      "      tokens: []\n",
      "    datum:\n",
      "      marloweContract:\n",
      "        timeout: 1667272069000\n",
      "        timeout_continuation: close\n",
      "        when:\n",
      "        - case:\n",
      "            deposits:\n",
      "              add: 100000000000\n",
      "              and: 5000000000\n",
      "            into_account:\n",
      "              address: addr_test1vr7n0zzth5zycuh972w7rdmh48qur4f3wu6ntn2m2h30dlcvltuy5\n",
      "            of_token:\n",
      "              currency_symbol: ''\n",
      "              token_name: ''\n",
      "            party:\n",
      "              address: addr_test1vr7n0zzth5zycuh972w7rdmh48qur4f3wu6ntn2m2h30dlcvltuy5\n",
      "          then:\n",
      "            from_account:\n",
      "              address: addr_test1vr7n0zzth5zycuh972w7rdmh48qur4f3wu6ntn2m2h30dlcvltuy5\n",
      "            pay:\n",
      "              add: 100000000000\n",
      "              and: 5000000000\n",
      "            then: close\n",
      "            to:\n",
      "              party:\n",
      "                address: addr_test1vqwt2xlr4d8yk4qws675exlqy6pdhq2s76wrehkjggkvr0cerfe8r\n",
      "            token:\n",
      "              currency_symbol: ''\n",
      "              token_name: ''\n",
      "      marloweParams:\n",
      "        rolesCurrency: ''\n",
      "      marloweState:\n",
      "        accounts:\n",
      "        - - - address: addr_test1vqwt2xlr4d8yk4qws675exlqy6pdhq2s76wrehkjggkvr0cerfe8r\n",
      "            - currency_symbol: ''\n",
      "              token_name: ''\n",
      "          - 3000000\n",
      "        boundValues: []\n",
      "        choices: []\n",
      "        minTime: 1667250780000\n",
      "    utxo:\n",
      "      txId: 562ef5fae1a44493a63dac0c6cc2582859b0f19f39b4875350a3e93a4b8b7495\n",
      "      txIx: 1\n",
      "  step: apply\n",
      "  txId: 562ef5fae1a44493a63dac0c6cc2582859b0f19f39b4875350a3e93a4b8b7495\n"
     ]
    }
   ],
   "source": [
    "json2yaml zcb-get.response"
   ]
  },
  {
   "cell_type": "markdown",
   "id": "fa707ba7-a934-4986-a085-c837dfed3290",
   "metadata": {},
   "source": [
    "## Transaction 3. The borrower deposits principal and interest"
   ]
  },
  {
   "cell_type": "markdown",
   "id": "f04ae732-0ca5-4f54-871c-ba22927847c0",
   "metadata": {},
   "source": [
    "Since this is a \"bullet loan\", the borrower closes the contract by repaying the principal plus interest. Once again, we use `marlowe-cli` for convenience to create the JSON for the input."
   ]
  },
  {
   "cell_type": "code",
   "execution_count": 31,
   "id": "c2633b6f-ea86-4eb3-9803-e42f772780af",
   "metadata": {},
   "outputs": [],
   "source": [
    "marlowe-cli input deposit \\\n",
    "  --deposit-party \"$BORROWER_ADDR\" \\\n",
    "  --deposit-account \"$BORROWER_ADDR\" \\\n",
    "  --deposit-amount \"$((PRINCIPAL + INTEREST))\" \\\n",
    "  --out-file zcb-3.input"
   ]
  },
  {
   "cell_type": "markdown",
   "id": "f4dbdd1b-6c94-4567-81e2-5439444a9fa9",
   "metadata": {},
   "source": [
    "Similarly to the previous transaction, we splice the input into a request for the lambda."
   ]
  },
  {
   "cell_type": "code",
   "execution_count": 32,
   "id": "5f5489a2-099c-40fd-ba39-41f6ef2b9d75",
   "metadata": {},
   "outputs": [
    {
     "name": "stdout",
     "output_type": "stream",
     "text": [
      "addresses: []\n",
      "change: addr_test1vr7n0zzth5zycuh972w7rdmh48qur4f3wu6ntn2m2h30dlcvltuy5\n",
      "collateral: []\n",
      "contractId: 66e4af5ec99f09c28c6378e1d9d9508d95544e258fd8c8e7f3ff168a73e7b656#1\n",
      "inputs:\n",
      "- input_from_party:\n",
      "    address: addr_test1vr7n0zzth5zycuh972w7rdmh48qur4f3wu6ntn2m2h30dlcvltuy5\n",
      "  into_account:\n",
      "    address: addr_test1vr7n0zzth5zycuh972w7rdmh48qur4f3wu6ntn2m2h30dlcvltuy5\n",
      "  of_token:\n",
      "    currency_symbol: ''\n",
      "    token_name: ''\n",
      "  that_deposits: 105000000000\n",
      "request: apply\n",
      "validityLowerBound: 1667250935000\n",
      "validityUpperBound: 1667251115000\n"
     ]
    }
   ],
   "source": [
    "cat << EOI > zcb-3.request\n",
    "{\n",
    "  \"request\" : \"apply\",\n",
    "  \"contractId\" : \"$CONTRACT_ID\",\n",
    "  \"inputs\" : [\n",
    "    $(cat zcb-3.input)\n",
    "  ],\n",
    "  \"validityLowerBound\" : $(($(date -u +%s) * SECOND - 1 * MINUTE)),\n",
    "  \"validityUpperBound\" : $(($(date -u +%s) * SECOND + 2 * MINUTE)),\n",
    "  \"change\" : \"$BORROWER_ADDR\",\n",
    "  \"addresses\" : [],\n",
    "  \"collateral\" : []\n",
    "}\n",
    "EOI\n",
    "\n",
    "json2yaml zcb-3.request"
   ]
  },
  {
   "cell_type": "markdown",
   "id": "7fe365fd-e712-4fea-8a4e-dc68d14972f8",
   "metadata": {},
   "source": [
    "We now invoke the lambda to create the transaction."
   ]
  },
  {
   "cell_type": "code",
   "execution_count": 33,
   "id": "c628861c-b34b-4a03-ab87-efd3f98eb677",
   "metadata": {},
   "outputs": [
    {
     "name": "stdout",
     "output_type": "stream",
     "text": [
      "{\n",
      "    \"StatusCode\": 200,\n",
      "    \"ExecutedVersion\": \"$LATEST\"\n",
      "}\n"
     ]
    }
   ],
   "source": [
    "aws lambda invoke \\\n",
    "  --function-name arn:aws:lambda:us-west-2:454236594309:function:bbush-marlowe-runtime-1 \\\n",
    "  --cli-binary-format raw-in-base64-out \\\n",
    "  --payload file://zcb-3.request \\\n",
    "  zcb-3.response"
   ]
  },
  {
   "cell_type": "markdown",
   "id": "38bd57bb-1a5c-4e24-9dec-ecec3e6a420f",
   "metadata": {},
   "source": [
    "Check the response to see that the transaction body was created."
   ]
  },
  {
   "cell_type": "code",
   "execution_count": 34,
   "id": "c5350d43-97f7-43e4-b646-7db20624387c",
   "metadata": {},
   "outputs": [
    {
     "name": "stdout",
     "output_type": "stream",
     "text": [
      "body:\n",
      "  cborHex: 86a90082825820562ef5fae1a44493a63dac0c6cc2582859b0f19f39b4875350a3e93a4b8b749501825820dc8fceb2f336dedf2af52ee3eb1cc469f849bf3c277919d665beb0fbeecc1ec6030d81825820562ef5fae1a44493a63dac0c6cc2582859b0f19f39b4875350a3e93a4b8b7495021281825820087f21f109a997193421a81886ea8c6397d336d19e696457b9c5c7aefdc31873010182a200581d60fd37884bbd044c72e5f29de1b777a9c1c1d531773535cd5b55e2f6ff011b0000000a7a2cff3ba200581d601cb51be3ab4e4b540e86bd4c9be02682db8150f69c3cded2422cc1bf011b0000001872aaa0c0021a000882c5031a006e982b081a006e97770e81581cfd37884bbd044c72e5f29de1b777a9c1c1d531773535cd5b55e2f6ff0b582069e83989881721b447d7424d675c192b4c9083922bb9a989f3c09164cf89db6f9fff81d8799fd8799f40ffd8799fa1d8799fd8799fd87980d8799fd8799f581c1cb51be3ab4e4b540e86bd4c9be02682db8150f69c3cded2422cc1bfffd87a80ffffd8799f4040ffff1a002dc6c0a0a01b000001842fe3f760ffd87c9f9fd8799fd8799fd8799fd87980d8799fd8799f581cfd37884bbd044c72e5f29de1b777a9c1c1d531773535cd5b55e2f6ffffd87a80ffffd8799fd87980d8799fd8799f581cfd37884bbd044c72e5f29de1b777a9c1c1d531773535cd5b55e2f6ffffd87a80ffffd8799f4040ffd87c9fd87a9f1b000000174876e800ffd87a9f1b000000012a05f200ffffffd87a9fd8799fd87980d8799fd8799f581cfd37884bbd044c72e5f29de1b777a9c1c1d531773535cd5b55e2f6ffffd87a80ffffd87a9fd8799fd87980d8799fd8799f581c1cb51be3ab4e4b540e86bd4c9be02682db8150f69c3cded2422cc1bfffd87a80ffffffd8799f4040ffd87c9fd87a9f1b000000174876e800ffd87a9f1b000000012a05f200ffffd87980ffffff1b000001843128cf88d87980ffff818400009fd8799fd8799fd8799fd87980d8799fd8799f581cfd37884bbd044c72e5f29de1b777a9c1c1d531773535cd5b55e2f6ffffd87a80ffffd8799fd87980d8799fd8799f581cfd37884bbd044c72e5f29de1b777a9c1c1d531773535cd5b55e2f6ffffd87a80ffffd8799f4040ff1b00000018727cda00ffffff821a004511c61a48f8f2c9f5f6\n",
      "  description: ''\n",
      "  type: TxBodyBabbage\n",
      "contractId: 66e4af5ec99f09c28c6378e1d9d9508d95544e258fd8c8e7f3ff168a73e7b656#1\n",
      "response: body\n",
      "txId: 5aaa9332ee34f487122d1f8fe5619f930186512524b0c2bc85de9bdab30e07cc\n"
     ]
    }
   ],
   "source": [
    "json2yaml zcb-3.response"
   ]
  },
  {
   "cell_type": "markdown",
   "id": "d288cd5a-7555-433f-b6c6-91287be3db5b",
   "metadata": {},
   "source": [
    "Once again, we sign and submit the transaction locally, and wait for confirmation."
   ]
  },
  {
   "cell_type": "code",
   "execution_count": 35,
   "id": "3732cd76-7c81-4620-9ecc-5343ef434622",
   "metadata": {},
   "outputs": [
    {
     "name": "stdout",
     "output_type": "stream",
     "text": [
      "TxId \"5aaa9332ee34f487122d1f8fe5619f930186512524b0c2bc85de9bdab30e07cc\"\n"
     ]
    }
   ],
   "source": [
    "jq '.body' zcb-3.response > zcb-3.txBody\n",
    "\n",
    "marlowe-cli transaction submit \\\n",
    "  --tx-body-file zcb-3.txBody \\\n",
    "  --required-signer \"$BORROWER_SKEY\" \\\n",
    "  --timeout 600"
   ]
  },
  {
   "cell_type": "markdown",
   "id": "8e261e6d-c5c3-4610-b7c2-3dcce622a800",
   "metadata": {},
   "source": [
    "Because the contract has closed, we see that there is no UTxO at the contract address."
   ]
  },
  {
   "cell_type": "code",
   "execution_count": 36,
   "id": "f99ababe-8907-414a-b1aa-b12a488614ca",
   "metadata": {},
   "outputs": [
    {
     "name": "stdout",
     "output_type": "stream",
     "text": [
      "                           TxHash                                 TxIx        Amount\n",
      "--------------------------------------------------------------------------------------\n"
     ]
    }
   ],
   "source": [
    "TX_3=\"$(jq -r '.txId' zcb-2.response)\"\n",
    "\n",
    "cardano-cli query utxo \"${MAGIC[@]}\" --address \"$CONTRACT_ADDR\" | sed -n -e \"1,2p;/$TX_3/p\""
   ]
  },
  {
   "cell_type": "markdown",
   "id": "04833f25-a774-4836-bf86-661bdffc35b1",
   "metadata": {},
   "source": [
    "The lender now has these funds in their wallet."
   ]
  },
  {
   "cell_type": "code",
   "execution_count": 37,
   "id": "5b3bd41c-c363-48c3-b33d-ad11f7e26623",
   "metadata": {},
   "outputs": [
    {
     "name": "stdout",
     "output_type": "stream",
     "text": [
      "                           TxHash                                 TxIx        Amount\n",
      "--------------------------------------------------------------------------------------\n",
      "562ef5fae1a44493a63dac0c6cc2582859b0f19f39b4875350a3e93a4b8b7495     0        49996090957 lovelace + TxOutDatumNone\n",
      "5aaa9332ee34f487122d1f8fe5619f930186512524b0c2bc85de9bdab30e07cc     1        105003000000 lovelace + TxOutDatumNone\n"
     ]
    }
   ],
   "source": [
    "cardano-cli query utxo \"${MAGIC[@]}\" --address \"$LENDER_ADDR\""
   ]
  },
  {
   "cell_type": "markdown",
   "id": "c74c76bb-b66f-4366-92c0-3d5f7ac9a898",
   "metadata": {},
   "source": [
    "The borrower now has these funds in their wallet."
   ]
  },
  {
   "cell_type": "code",
   "execution_count": 38,
   "id": "ecb1708e-56bb-41ad-9876-43428fc4edb0",
   "metadata": {},
   "outputs": [
    {
     "name": "stdout",
     "output_type": "stream",
     "text": [
      "                           TxHash                                 TxIx        Amount\n",
      "--------------------------------------------------------------------------------------\n",
      "562ef5fae1a44493a63dac0c6cc2582859b0f19f39b4875350a3e93a4b8b7495     2        100000000000 lovelace + TxOutDatumNone\n",
      "5aaa9332ee34f487122d1f8fe5619f930186512524b0c2bc85de9bdab30e07cc     0        44999442235 lovelace + TxOutDatumNone\n"
     ]
    }
   ],
   "source": [
    "cardano-cli query utxo \"${MAGIC[@]}\" --address \"$BORROWER_ADDR\""
   ]
  },
  {
   "cell_type": "markdown",
   "id": "dc202e40-64ac-4a4d-bb06-cc5c1924969b",
   "metadata": {},
   "source": [
    "## Retrieve the on-chain information about the contract"
   ]
  },
  {
   "cell_type": "markdown",
   "id": "a3a2326d-4135-48e2-b380-64633562d15c",
   "metadata": {},
   "source": [
    "Fetch the latest on-chain information about the contract."
   ]
  },
  {
   "cell_type": "code",
   "execution_count": 39,
   "id": "d51a3508-972e-4268-b85e-8c2f87c88194",
   "metadata": {},
   "outputs": [
    {
     "name": "stdout",
     "output_type": "stream",
     "text": [
      "{\n",
      "    \"StatusCode\": 200,\n",
      "    \"ExecutedVersion\": \"$LATEST\"\n",
      "}\n"
     ]
    }
   ],
   "source": [
    "aws lambda invoke \\\n",
    "  --function-name arn:aws:lambda:us-west-2:454236594309:function:bbush-marlowe-runtime-1 \\\n",
    "  --cli-binary-format raw-in-base64-out \\\n",
    "  --payload file://zcb-get.request \\\n",
    "  zcb-get.response"
   ]
  },
  {
   "cell_type": "markdown",
   "id": "5d8c7d89-612f-45ac-ab73-6595164acc34",
   "metadata": {},
   "source": [
    "View the resulting information about the contract, seeing that the history now shows the final on-chain step that closed the contract."
   ]
  },
  {
   "cell_type": "code",
   "execution_count": 40,
   "id": "00455e8b-6c91-4f76-92ee-630769812e52",
   "metadata": {},
   "outputs": [
    {
     "name": "stdout",
     "output_type": "stream",
     "text": [
      "creation:\n",
      "  output:\n",
      "    address: 706a9391d6aa51af28dd876ebb5565b69d1e83e5ac7861506bd29b56b0\n",
      "    assets:\n",
      "      ada: 3000000\n",
      "      tokens: []\n",
      "    datum:\n",
      "      marloweContract:\n",
      "        timeout: 1667257669000\n",
      "        timeout_continuation: close\n",
      "        when:\n",
      "        - case:\n",
      "            deposits: 100000000000\n",
      "            into_account:\n",
      "              address: addr_test1vqwt2xlr4d8yk4qws675exlqy6pdhq2s76wrehkjggkvr0cerfe8r\n",
      "            of_token:\n",
      "              currency_symbol: ''\n",
      "              token_name: ''\n",
      "            party:\n",
      "              address: addr_test1vqwt2xlr4d8yk4qws675exlqy6pdhq2s76wrehkjggkvr0cerfe8r\n",
      "          then:\n",
      "            from_account:\n",
      "              address: addr_test1vqwt2xlr4d8yk4qws675exlqy6pdhq2s76wrehkjggkvr0cerfe8r\n",
      "            pay: 100000000000\n",
      "            then:\n",
      "              timeout: 1667272069000\n",
      "              timeout_continuation: close\n",
      "              when:\n",
      "              - case:\n",
      "                  deposits:\n",
      "                    add: 100000000000\n",
      "                    and: 5000000000\n",
      "                  into_account:\n",
      "                    address: addr_test1vr7n0zzth5zycuh972w7rdmh48qur4f3wu6ntn2m2h30dlcvltuy5\n",
      "                  of_token:\n",
      "                    currency_symbol: ''\n",
      "                    token_name: ''\n",
      "                  party:\n",
      "                    address: addr_test1vr7n0zzth5zycuh972w7rdmh48qur4f3wu6ntn2m2h30dlcvltuy5\n",
      "                then:\n",
      "                  from_account:\n",
      "                    address: addr_test1vr7n0zzth5zycuh972w7rdmh48qur4f3wu6ntn2m2h30dlcvltuy5\n",
      "                  pay:\n",
      "                    add: 100000000000\n",
      "                    and: 5000000000\n",
      "                  then: close\n",
      "                  to:\n",
      "                    party:\n",
      "                      address: addr_test1vqwt2xlr4d8yk4qws675exlqy6pdhq2s76wrehkjggkvr0cerfe8r\n",
      "                  token:\n",
      "                    currency_symbol: ''\n",
      "                    token_name: ''\n",
      "            to:\n",
      "              party:\n",
      "                address: addr_test1vr7n0zzth5zycuh972w7rdmh48qur4f3wu6ntn2m2h30dlcvltuy5\n",
      "            token:\n",
      "              currency_symbol: ''\n",
      "              token_name: ''\n",
      "      marloweParams:\n",
      "        rolesCurrency: ''\n",
      "      marloweState:\n",
      "        accounts:\n",
      "        - - - address: addr_test1vqwt2xlr4d8yk4qws675exlqy6pdhq2s76wrehkjggkvr0cerfe8r\n",
      "            - currency_symbol: ''\n",
      "              token_name: ''\n",
      "          - 3000000\n",
      "        boundValues: []\n",
      "        choices: []\n",
      "        minTime: 0\n",
      "    utxo:\n",
      "      txId: 66e4af5ec99f09c28c6378e1d9d9508d95544e258fd8c8e7f3ff168a73e7b656\n",
      "      txIx: 1\n",
      "  payoutValidatorHash: 49076eab20243dc9462511fb98a9cfb719f86e9692288139b7c91df3\n",
      "response: info\n",
      "steps:\n",
      "- contractId: 66e4af5ec99f09c28c6378e1d9d9508d95544e258fd8c8e7f3ff168a73e7b656#1\n",
      "  payouts: []\n",
      "  redeemer:\n",
      "  - input_from_party:\n",
      "      address: addr_test1vqwt2xlr4d8yk4qws675exlqy6pdhq2s76wrehkjggkvr0cerfe8r\n",
      "    into_account:\n",
      "      address: addr_test1vqwt2xlr4d8yk4qws675exlqy6pdhq2s76wrehkjggkvr0cerfe8r\n",
      "    of_token:\n",
      "      currency_symbol: ''\n",
      "      token_name: ''\n",
      "    that_deposits: 100000000000\n",
      "  scriptOutput:\n",
      "    address: 706a9391d6aa51af28dd876ebb5565b69d1e83e5ac7861506bd29b56b0\n",
      "    assets:\n",
      "      ada: 3000000\n",
      "      tokens: []\n",
      "    datum:\n",
      "      marloweContract:\n",
      "        timeout: 1667272069000\n",
      "        timeout_continuation: close\n",
      "        when:\n",
      "        - case:\n",
      "            deposits:\n",
      "              add: 100000000000\n",
      "              and: 5000000000\n",
      "            into_account:\n",
      "              address: addr_test1vr7n0zzth5zycuh972w7rdmh48qur4f3wu6ntn2m2h30dlcvltuy5\n",
      "            of_token:\n",
      "              currency_symbol: ''\n",
      "              token_name: ''\n",
      "            party:\n",
      "              address: addr_test1vr7n0zzth5zycuh972w7rdmh48qur4f3wu6ntn2m2h30dlcvltuy5\n",
      "          then:\n",
      "            from_account:\n",
      "              address: addr_test1vr7n0zzth5zycuh972w7rdmh48qur4f3wu6ntn2m2h30dlcvltuy5\n",
      "            pay:\n",
      "              add: 100000000000\n",
      "              and: 5000000000\n",
      "            then: close\n",
      "            to:\n",
      "              party:\n",
      "                address: addr_test1vqwt2xlr4d8yk4qws675exlqy6pdhq2s76wrehkjggkvr0cerfe8r\n",
      "            token:\n",
      "              currency_symbol: ''\n",
      "              token_name: ''\n",
      "      marloweParams:\n",
      "        rolesCurrency: ''\n",
      "      marloweState:\n",
      "        accounts:\n",
      "        - - - address: addr_test1vqwt2xlr4d8yk4qws675exlqy6pdhq2s76wrehkjggkvr0cerfe8r\n",
      "            - currency_symbol: ''\n",
      "              token_name: ''\n",
      "          - 3000000\n",
      "        boundValues: []\n",
      "        choices: []\n",
      "        minTime: 1667250780000\n",
      "    utxo:\n",
      "      txId: 562ef5fae1a44493a63dac0c6cc2582859b0f19f39b4875350a3e93a4b8b7495\n",
      "      txIx: 1\n",
      "  step: apply\n",
      "  txId: 562ef5fae1a44493a63dac0c6cc2582859b0f19f39b4875350a3e93a4b8b7495\n",
      "- contractId: 66e4af5ec99f09c28c6378e1d9d9508d95544e258fd8c8e7f3ff168a73e7b656#1\n",
      "  payouts: []\n",
      "  redeemer:\n",
      "  - input_from_party:\n",
      "      address: addr_test1vr7n0zzth5zycuh972w7rdmh48qur4f3wu6ntn2m2h30dlcvltuy5\n",
      "    into_account:\n",
      "      address: addr_test1vr7n0zzth5zycuh972w7rdmh48qur4f3wu6ntn2m2h30dlcvltuy5\n",
      "    of_token:\n",
      "      currency_symbol: ''\n",
      "      token_name: ''\n",
      "    that_deposits: 105000000000\n",
      "  scriptOutput: null\n",
      "  step: apply\n",
      "  txId: 5aaa9332ee34f487122d1f8fe5619f930186512524b0c2bc85de9bdab30e07cc\n"
     ]
    }
   ],
   "source": [
    "json2yaml zcb-get.response"
   ]
  }
 ],
 "metadata": {
  "kernelspec": {
   "display_name": "Bash - Marlowe",
   "language": "bash",
   "name": "bash_marlowe"
  },
  "language_info": {
   "codemirror_mode": "shell",
   "file_extension": ".sh",
   "mimetype": "text/x-sh",
   "name": "/nix/store/l0wlqpbsvh1pgvhcdhw7qkka3d31si7k-bash-5.1-p8/bin/bash"
  }
 },
 "nbformat": 4,
 "nbformat_minor": 5
}
